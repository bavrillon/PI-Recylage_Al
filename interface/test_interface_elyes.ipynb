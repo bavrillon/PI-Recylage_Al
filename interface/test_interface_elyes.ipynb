{
 "cells": [
  {
   "cell_type": "markdown",
   "id": "a42b1734",
   "metadata": {
    "vscode": {
     "languageId": "plaintext"
    }
   },
   "source": [
    "# Test structure interface\n",
    "\n",
    "Pour se familiariser"
   ]
  },
  {
   "cell_type": "code",
   "execution_count": 1,
   "id": "0b913713",
   "metadata": {},
   "outputs": [],
   "source": [
    "import streamlit as st\n",
    "import pandas as pd\n",
    "import numpy as np\n",
    "from matplotlib import pyplot as plt"
   ]
  },
  {
   "cell_type": "code",
   "execution_count": 2,
   "id": "dc2d400c",
   "metadata": {},
   "outputs": [
    {
     "name": "stderr",
     "output_type": "stream",
     "text": [
      "2025-06-30 10:17:56.402 WARNING streamlit.runtime.scriptrunner_utils.script_run_context: Thread 'MainThread': missing ScriptRunContext! This warning can be ignored when running in bare mode.\n",
      "2025-06-30 10:17:56.515 \n",
      "  \u001b[33m\u001b[1mWarning:\u001b[0m to view this Streamlit app on a browser, run it with the following\n",
      "  command:\n",
      "\n",
      "    streamlit run /opt/miniconda3/lib/python3.12/site-packages/ipykernel_launcher.py [ARGUMENTS]\n",
      "2025-06-30 10:17:56.515 Thread 'MainThread': missing ScriptRunContext! This warning can be ignored when running in bare mode.\n",
      "2025-06-30 10:17:56.516 Thread 'MainThread': missing ScriptRunContext! This warning can be ignored when running in bare mode.\n",
      "2025-06-30 10:17:56.516 Thread 'MainThread': missing ScriptRunContext! This warning can be ignored when running in bare mode.\n",
      "2025-06-30 10:17:56.517 Thread 'MainThread': missing ScriptRunContext! This warning can be ignored when running in bare mode.\n",
      "2025-06-30 10:17:56.517 Thread 'MainThread': missing ScriptRunContext! This warning can be ignored when running in bare mode.\n",
      "2025-06-30 10:17:56.518 Thread 'MainThread': missing ScriptRunContext! This warning can be ignored when running in bare mode.\n",
      "2025-06-30 10:17:56.518 Thread 'MainThread': missing ScriptRunContext! This warning can be ignored when running in bare mode.\n",
      "2025-06-30 10:17:56.519 Thread 'MainThread': missing ScriptRunContext! This warning can be ignored when running in bare mode.\n"
     ]
    }
   ],
   "source": [
    "st.title(\"Test Interface Elyes\")\n",
    "uploaded_file = st.file_uploader(\"Upload a CSV file\", type=[\"csv\"])\n",
    "\n",
    "if uploaded_file is not None:\n",
    "    df = pd.read_csv(uploaded_file)\n",
    "    st.write(\"DataFrame:\")\n",
    "    st.dataframe(df)\n",
    "\n",
    "    if st.button(\"Show Summary Statistics\"):\n",
    "        st.write(\"Summary Statistics:\")\n",
    "        st.write(df.describe())\n",
    "\n",
    "    if st.button(\"Show Histogram\"):\n",
    "        column = st.selectbox(\"Select a column for histogram\", df.columns)\n",
    "        plt.figure(figsize=(10, 5))\n",
    "        plt.hist(df[column], bins=30, alpha=0.7, color='blue')\n",
    "        plt.title(f\"Histogram of {column}\")\n",
    "        plt.xlabel(column)\n",
    "        plt.ylabel(\"Frequency\")\n",
    "        st.pyplot(plt)"
   ]
  },
  {
   "cell_type": "code",
   "execution_count": null,
   "id": "fa85e53c",
   "metadata": {},
   "outputs": [],
   "source": []
  }
 ],
 "metadata": {
  "kernelspec": {
   "display_name": "base",
   "language": "python",
   "name": "python3"
  },
  "language_info": {
   "codemirror_mode": {
    "name": "ipython",
    "version": 3
   },
   "file_extension": ".py",
   "mimetype": "text/x-python",
   "name": "python",
   "nbconvert_exporter": "python",
   "pygments_lexer": "ipython3",
   "version": "3.12.11"
  }
 },
 "nbformat": 4,
 "nbformat_minor": 5
}
