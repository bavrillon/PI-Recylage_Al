{
 "cells": [
  {
   "cell_type": "markdown",
   "id": "a42b1734",
   "metadata": {
    "vscode": {
     "languageId": "plaintext"
    }
   },
   "source": [
    "# Test structure interface\n",
    "\n",
    "Pour se familiariser"
   ]
  },
  {
   "cell_type": "code",
   "execution_count": null,
   "id": "0b913713",
   "metadata": {},
   "outputs": [],
   "source": []
  }
 ],
 "metadata": {
  "language_info": {
   "name": "python"
  }
 },
 "nbformat": 4,
 "nbformat_minor": 5
}
